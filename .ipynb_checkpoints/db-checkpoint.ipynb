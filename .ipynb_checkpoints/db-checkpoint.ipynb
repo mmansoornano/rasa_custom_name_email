{
 "cells": [
  {
   "cell_type": "code",
   "execution_count": 1,
   "metadata": {},
   "outputs": [],
   "source": [
    "import sqlite3"
   ]
  },
  {
   "cell_type": "code",
   "execution_count": 2,
   "metadata": {},
   "outputs": [
    {
     "name": "stdout",
     "output_type": "stream",
     "text": [
      "[('alembic_version',), ('analytics_cache',), ('chat_tokens',), ('password',), ('platform_feature',), ('project',), ('conversation_action_metadata',), ('conversation_entity_metadata',), ('conversation_intent_metadata',), ('message_correction',), ('conversation_policy_metadata',), ('conversation_statistic',), ('environment',), ('intent',), ('lookup_table',), ('model',), ('permission',), ('regex_feature',), ('user_goal',), ('conversation_action_statistic',), ('conversation_entity_statistic',), ('conversation_intent_statistic',), ('conversation_policy_statistic',), ('model_tag',), ('nlu_evaluation',), ('nlu_training_data',), ('single_use_token',), ('temporary_intent_example',), ('user_goal_intent',), ('user_role_mapping',), ('nlu_evaluation_prediction',), ('user_role',), ('domain_action',), ('domain_intent',), ('domain_entity',), ('entity_synonym_value',), ('entity_synonym',), ('nlu_training_data_entity',), ('rasa_x_user',), ('domain',), ('configuration',), ('conversation_tag',), ('conversation_to_tag_mapping',), ('conversation_event',), ('git_repository',), ('conversation_session',), ('response',), ('message_log',), ('conversation',), ('story',), ('domain_slot',)]\n"
     ]
    }
   ],
   "source": [
    "# Create a SQL connection to our SQLite database\n",
    "con = sqlite3.connect('./rasa.db')\n",
    "\n",
    "# creating cursor\n",
    "cur = con.cursor()\n",
    "\n",
    "# reading all table names\n",
    "table_list = [a for a in cur.execute(\"SELECT name FROM sqlite_master WHERE type = 'table'\")]\n",
    "# here is you table list\n",
    "print(table_list)\n",
    "\n",
    "# Be sure to close the connection\n",
    "# con.close()"
   ]
  },
  {
   "cell_type": "code",
   "execution_count": 11,
   "metadata": {},
   "outputs": [
    {
     "name": "stdout",
     "output_type": "stream",
     "text": [
      "('630b64c7f0eb4e6f9f179554b54289b8', None, None, 1613777003)\n"
     ]
    }
   ],
   "source": [
    "cur = con.cursor()\n",
    "\n",
    "for row in cur.execute(\"SELECT * FROM chat_tokens\"):\n",
    "    print(row)"
   ]
  }
 ],
 "metadata": {
  "kernelspec": {
   "display_name": "Python 3",
   "language": "python",
   "name": "python3"
  },
  "language_info": {
   "codemirror_mode": {
    "name": "ipython",
    "version": 3
   },
   "file_extension": ".py",
   "mimetype": "text/x-python",
   "name": "python",
   "nbconvert_exporter": "python",
   "pygments_lexer": "ipython3",
   "version": "3.7.6"
  }
 },
 "nbformat": 4,
 "nbformat_minor": 4
}
