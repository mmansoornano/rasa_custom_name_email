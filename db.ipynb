{
 "cells": [
  {
   "cell_type": "code",
   "execution_count": 1,
   "metadata": {},
   "outputs": [],
   "source": [
    "import sqlite3"
   ]
  },
  {
   "cell_type": "code",
   "execution_count": 2,
   "metadata": {},
   "outputs": [
    {
     "name": "stdout",
     "output_type": "stream",
     "text": [
      "[('alembic_version',), ('analytics_cache',), ('chat_tokens',), ('password',), ('platform_feature',), ('project',), ('conversation_action_metadata',), ('conversation_entity_metadata',), ('conversation_intent_metadata',), ('message_correction',), ('conversation_policy_metadata',), ('conversation_statistic',), ('environment',), ('intent',), ('lookup_table',), ('model',), ('permission',), ('regex_feature',), ('user_goal',), ('conversation_action_statistic',), ('conversation_entity_statistic',), ('conversation_intent_statistic',), ('conversation_policy_statistic',), ('model_tag',), ('nlu_evaluation',), ('nlu_training_data',), ('single_use_token',), ('temporary_intent_example',), ('user_goal_intent',), ('user_role_mapping',), ('nlu_evaluation_prediction',), ('user_role',), ('domain_action',), ('domain_intent',), ('domain_entity',), ('entity_synonym_value',), ('entity_synonym',), ('nlu_training_data_entity',), ('rasa_x_user',), ('domain',), ('configuration',), ('conversation_tag',), ('conversation_to_tag_mapping',), ('conversation_event',), ('git_repository',), ('conversation_session',), ('response',), ('message_log',), ('conversation',), ('story',), ('domain_slot',)]\n"
     ]
    }
   ],
   "source": [
    "# Create a SQL connection to our SQLite database\n",
    "con = sqlite3.connect('./rasa.db')\n",
    "\n",
    "# creating cursor\n",
    "cur = con.cursor()\n",
    "\n",
    "# reading all table names\n",
    "table_list = [a for a in cur.execute(\"SELECT name FROM sqlite_master WHERE type = 'table'\")]\n",
    "# here is you table list\n",
    "print(table_list)\n",
    "\n",
    "# Be sure to close the connection\n",
    "# con.close()"
   ]
  },
  {
   "cell_type": "code",
   "execution_count": 22,
   "metadata": {},
   "outputs": [
    {
     "name": "stdout",
     "output_type": "stream",
     "text": [
      "(1, '49f68a5c8493ec2c0bf489821c21fc3b', 0, 1611185146.0653772, 'hi', 'greet', 0.999950647354126, '[{\"id\": -5277241618893815899, \"name\": \"greet\", \"confidence\": 0.999950647354126}, {\"id\": 7396761608739629, \"name\": \"email_entry\", \"confidence\": 2.4192042474169284e-05}, {\"id\": -1796759565725741, \"name\": \"affirm\", \"confidence\": 1.711430013529025e-05}, {\"id\": 5774475290155817519, \"name\": \"goodbye\", \"confidence\": 5.281052835925948e-06}, {\"id\": -7442985525316684029, \"name\": \"name_entry\", \"confidence\": 2.781887133096461e-06}]', '[]', 13, 0, '20210121-042002', 'c5f576667f16469289f3de3dd9ae5e44') \n",
      "\n",
      "(2, 'b88d4cb7f86b1111bd1a7ce7ced72f45', 0, 1611185105.6650643, 'My name is Vinod Khan', 'name_entry', 0.9905481934547424, '[{\"id\": -7442985525316684029, \"name\": \"name_entry\", \"confidence\": 0.9905481934547424}, {\"id\": 7396761608739629, \"name\": \"email_entry\", \"confidence\": 0.006131323054432869}, {\"id\": 5774475290155817519, \"name\": \"goodbye\", \"confidence\": 0.0019661469850689173}, {\"id\": -1796759565725741, \"name\": \"affirm\", \"confidence\": 0.001139914384111762}, {\"id\": -5277241618893815899, \"name\": \"greet\", \"confidence\": 0.00021441451099235564}]', '[{\"entity\": \"PERSON\", \"value\": \"Vinod Khan\", \"start\": 11, \"confidence\": null, \"end\": 21, \"extractor\": \"SpacyEntityExtractor\"}, {\"entity\": \"name\", \"start\": 17, \"end\": 21, \"confidence_entity\": 0.5031692385673523, \"value\": \"Khan\", \"extractor\": \"DIETClassifier\"}]', 7, 0, '20210121-042002', 'cd15a63f75bd41d388d7e1c3437f962a') \n",
      "\n",
      "(3, 'fc1b4bc6b0a4c8a6f14362e98e32b07e', 0, 1611185175.2218263, 'My name is Uzair Ayub', 'name_entry', 0.9967405796051025, '[{\"id\": -7442985525316684029, \"name\": \"name_entry\", \"confidence\": 0.9967405796051025}, {\"id\": 7396761608739629, \"name\": \"email_entry\", \"confidence\": 0.0025299580302089453}, {\"id\": 5774475290155817519, \"name\": \"goodbye\", \"confidence\": 0.000495637534186244}, {\"id\": -1796759565725741, \"name\": \"affirm\", \"confidence\": 0.0002264974609715864}, {\"id\": -5277241618893815899, \"name\": \"greet\", \"confidence\": 7.344230652961414e-06}]', '[{\"entity\": \"PERSON\", \"value\": \"Uzair Ayub\", \"start\": 11, \"confidence\": null, \"end\": 21, \"extractor\": \"SpacyEntityExtractor\"}, {\"entity\": \"name\", \"start\": 11, \"end\": 16, \"confidence_entity\": 0.6909681558609009, \"value\": \"Uzair\", \"extractor\": \"DIETClassifier\"}, {\"entity\": \"name\", \"start\": 17, \"end\": 21, \"confidence_entity\": 0.714820146560669, \"value\": \"Ayub\", \"extractor\": \"DIETClassifier\"}]', 17, 0, '20210121-042002', 'c5f576667f16469289f3de3dd9ae5e44') \n",
      "\n",
      "(4, '271b1eddc7c4220745b6cf0b70b737f8', 0, 1611185222.6547842, 'My email is uair@yahoo.com', 'email_entry', 0.9993799328804016, '[{\"id\": 7396761608739629, \"name\": \"email_entry\", \"confidence\": 0.9993799328804016}, {\"id\": -7442985525316684029, \"name\": \"name_entry\", \"confidence\": 0.0005257033626548946}, {\"id\": 5774475290155817519, \"name\": \"goodbye\", \"confidence\": 4.40062940469943e-05}, {\"id\": -1796759565725741, \"name\": \"affirm\", \"confidence\": 3.472920798230916e-05}, {\"id\": -5277241618893815899, \"name\": \"greet\", \"confidence\": 1.561545104777906e-05}]', '[{\"entity\": \"email\", \"start\": 12, \"end\": 26, \"confidence_entity\": 0.9853148460388184, \"value\": \"uair@yahoo.com\", \"extractor\": \"DIETClassifier\"}, {\"entity\": \"email\", \"start\": 12, \"end\": 26, \"value\": \"uair@yahoo.com\", \"extractor\": \"RegexEntityExtractor\"}]', 23, 0, '20210121-042002', 'c5f576667f16469289f3de3dd9ae5e44') \n",
      "\n",
      "(5, '93cba07454f06a4a960172bbd6e2a435', 0, 1611185232.2898822, 'Yes', 'affirm', 0.9998043179512024, '[{\"id\": -1796759565725741, \"name\": \"affirm\", \"confidence\": 0.9998043179512024}, {\"id\": -7442985525316684029, \"name\": \"name_entry\", \"confidence\": 0.00016371450328733772}, {\"id\": 7396761608739629, \"name\": \"email_entry\", \"confidence\": 1.7955237126443535e-05}, {\"id\": -5277241618893815899, \"name\": \"greet\", \"confidence\": 8.615460501459893e-06}, {\"id\": 5774475290155817519, \"name\": \"goodbye\", \"confidence\": 5.409546702139778e-06}]', '[]', 29, 0, '20210121-042002', 'c5f576667f16469289f3de3dd9ae5e44') \n",
      "\n"
     ]
    }
   ],
   "source": [
    "cur = con.cursor()\n",
    "\n",
    "for row in cur.execute(\"SELECT * FROM message_log\"):\n",
    "    print(row,'\\n')"
   ]
  }
 ],
 "metadata": {
  "kernelspec": {
   "display_name": "Python 3",
   "language": "python",
   "name": "python3"
  },
  "language_info": {
   "codemirror_mode": {
    "name": "ipython",
    "version": 3
   },
   "file_extension": ".py",
   "mimetype": "text/x-python",
   "name": "python",
   "nbconvert_exporter": "python",
   "pygments_lexer": "ipython3",
   "version": "3.7.6"
  }
 },
 "nbformat": 4,
 "nbformat_minor": 4
}
